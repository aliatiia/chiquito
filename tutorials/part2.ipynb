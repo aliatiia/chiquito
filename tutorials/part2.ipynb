{
 "cells": [
  {
   "attachments": {},
   "cell_type": "markdown",
   "id": "11105438-f775-4ff5-a91c-b236aedd9eb1",
   "metadata": {},
   "source": [
    "# Part 2: Quick Start\n",
    "To use this Notebook, simply install Chiquito and its dependencies using the following command:"
   ]
  },
  {
   "cell_type": "code",
   "execution_count": 1,
   "id": "a1314171-a239-43bc-9130-6fed13e2cc89",
   "metadata": {},
   "outputs": [
    {
     "name": "stdout",
     "output_type": "stream",
     "text": [
      "Requirement already satisfied: chiquito in /Users/steve/Documents/repo/chiquito-6_2_23_v10/chiquito/.env/lib/python3.11/site-packages (0.1.2023092400)\n",
      "Requirement already satisfied: py_ecc in /Users/steve/Documents/repo/chiquito-6_2_23_v10/chiquito/.env/lib/python3.11/site-packages (from chiquito) (6.0.0)\n",
      "Requirement already satisfied: eth-typing<4,>=3.0.0 in /Users/steve/Documents/repo/chiquito-6_2_23_v10/chiquito/.env/lib/python3.11/site-packages (from py_ecc->chiquito) (3.4.0)\n",
      "Requirement already satisfied: eth-utils<3,>=2.0.0 in /Users/steve/Documents/repo/chiquito-6_2_23_v10/chiquito/.env/lib/python3.11/site-packages (from py_ecc->chiquito) (2.2.0)\n",
      "Requirement already satisfied: mypy-extensions>=0.4.1 in /Users/steve/Documents/repo/chiquito-6_2_23_v10/chiquito/.env/lib/python3.11/site-packages (from py_ecc->chiquito) (1.0.0)\n",
      "Requirement already satisfied: cached-property<2,>=1.5.1 in /Users/steve/Documents/repo/chiquito-6_2_23_v10/chiquito/.env/lib/python3.11/site-packages (from py_ecc->chiquito) (1.5.2)\n",
      "Requirement already satisfied: eth-hash>=0.3.1 in /Users/steve/Documents/repo/chiquito-6_2_23_v10/chiquito/.env/lib/python3.11/site-packages (from eth-utils<3,>=2.0.0->py_ecc->chiquito) (0.5.2)\n",
      "Requirement already satisfied: cytoolz>=0.10.1 in /Users/steve/Documents/repo/chiquito-6_2_23_v10/chiquito/.env/lib/python3.11/site-packages (from eth-utils<3,>=2.0.0->py_ecc->chiquito) (0.12.2)\n",
      "Requirement already satisfied: toolz>=0.8.0 in /Users/steve/Documents/repo/chiquito-6_2_23_v10/chiquito/.env/lib/python3.11/site-packages (from cytoolz>=0.10.1->eth-utils<3,>=2.0.0->py_ecc->chiquito) (0.12.0)\n",
      "\n",
      "\u001b[1m[\u001b[0m\u001b[34;49mnotice\u001b[0m\u001b[1;39;49m]\u001b[0m\u001b[39;49m A new release of pip is available: \u001b[0m\u001b[31;49m23.1.2\u001b[0m\u001b[39;49m -> \u001b[0m\u001b[32;49m23.3\u001b[0m\n",
      "\u001b[1m[\u001b[0m\u001b[34;49mnotice\u001b[0m\u001b[1;39;49m]\u001b[0m\u001b[39;49m To update, run: \u001b[0m\u001b[32;49mpip install --upgrade pip\u001b[0m\n"
     ]
    }
   ],
   "source": [
    "!pip install chiquito"
   ]
  }
 ],
 "metadata": {
  "kernelspec": {
   "display_name": "chiquito_kernel",
   "language": "python",
   "name": "chiquito_kernel"
  },
  "language_info": {
   "codemirror_mode": {
    "name": "ipython",
    "version": 3
   },
   "file_extension": ".py",
   "mimetype": "text/x-python",
   "name": "python",
   "nbconvert_exporter": "python",
   "pygments_lexer": "ipython3",
   "version": "3.11.4"
  }
 },
 "nbformat": 4,
 "nbformat_minor": 5
}
