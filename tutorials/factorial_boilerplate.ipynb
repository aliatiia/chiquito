{
 "cells": [
  {
   "cell_type": "code",
   "execution_count": null,
   "id": "9bc70df3-ddb7-44b7-9793-18155cf613f2",
   "metadata": {},
   "outputs": [],
   "source": [
    "# install chiquito dependency\n",
    "!pip install chiquito"
   ]
  },
  {
   "cell_type": "code",
   "execution_count": null,
   "id": "4c39695e-cd19-4b4f-a033-89be958a32a0",
   "metadata": {},
   "outputs": [],
   "source": [
    "# Here's the boiler plate code for the factorial exercise.\n",
    "# Fill in the TODOs to complete the exercise\n",
    "\n",
    "# Before coding anything up, think about the matrix that we are creating for the factorial circuit\n",
    "# After coming up with the matrix, think about the step types you want to construct the circuit with\n",
    "# Within each step type, think about the constraints to create\n",
    "# You'll also need to figure out whether the variables you are creating are circuit level or step type level\n",
    "# Finally, proceed to create the wg (witness generation) for the step types and trace functions for the circuit.\n",
    "\n",
    "# Import dependencies you might need to use\n",
    "from chiquito.dsl import Circuit, StepType\n",
    "from chiquito.cb import eq\n",
    "from chiquito.util import F\n",
    "from chiquito.chiquito_ast import Last\n",
    "\n",
    "# this is just a boiler plate for the step type\n",
    "# note that you might need more than one step type\n",
    "class Step(StepType):\n",
    "    def setup(self):\n",
    "        # put step level signals and constraints here\n",
    "\n",
    "    def wg(self):\n",
    "        # assign witness values here\n",
    "        # note that depending on the scenario, wg might take additional arguments\n",
    "        # for example wg(self, arg1, arg2):\n",
    "\n",
    "# this is a boiler plate for the circuit\n",
    "class Factorial(Circuit):\n",
    "    def setup(self):\n",
    "        # put circuit level signals and step types to append to the circuit here\n",
    "        # also put circuit level set up here:\n",
    "        # for example, the number of steps, the first step type, and the last step type\n",
    "\n",
    "    def trace(self):\n",
    "        # instantiate step types here with self.add\n",
    "        # note that depending on the scenario, trace might take additional arguments\n",
    "        # for example trace(self, arg1, arg2):\n",
    "\n",
    "# boiler plate for testing the circuit\n",
    "factorial = Factorial() # initialize the factorial circuit\n",
    "factorial_witness = factorial.gen_witness() # generate a witness; this function calls the trace function you defined above\n",
    "factorial.halo2_mock_prover(factorial_witness) # test the witness against the circuit using the mock prover"
   ]
  }
 ],
 "metadata": {
  "kernelspec": {
   "display_name": "Python 3 (ipykernel)",
   "language": "python",
   "name": "python3"
  },
  "language_info": {
   "codemirror_mode": {
    "name": "ipython",
    "version": 3
   },
   "file_extension": ".py",
   "mimetype": "text/x-python",
   "name": "python",
   "nbconvert_exporter": "python",
   "pygments_lexer": "ipython3",
   "version": "3.11.4"
  }
 },
 "nbformat": 4,
 "nbformat_minor": 5
}
